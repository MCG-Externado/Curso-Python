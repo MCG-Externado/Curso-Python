{
 "cells": [
  {
   "cell_type": "markdown",
   "metadata": {},
   "source": [
    "# Ejercicio simple - Newton \n",
    "\n",
    "Un ejercicio sencillo para pintar fractales de Newton (Secante), se utiliza el método numérico de Newton (Secante) para establecer a velocidad de convergencia  a una raíz desde un complejo $a+b i$."
   ]
  },
  {
   "cell_type": "markdown",
   "metadata": {},
   "source": [
    "Un paquete muy importante para hacer gráficos y otro para generar imagenes (`matplotlib` y `PIL`)"
   ]
  },
  {
   "cell_type": "code",
   "execution_count": null,
   "metadata": {},
   "outputs": [],
   "source": [
    "import matplotlib.pyplot as plt\n",
    "from PIL import Image"
   ]
  },
  {
   "cell_type": "code",
   "execution_count": null,
   "metadata": {},
   "outputs": [],
   "source": [
    "imgx=800\n",
    "imgy=800\n",
    "image=Image.new(\"RGB\",(imgx,imgy))\n",
    "image.putpixel((100,100),(255,255,255))\n",
    "image"
   ]
  },
  {
   "cell_type": "markdown",
   "metadata": {},
   "source": [
    "La definición de la imagen es una grilla, identificaremos cada pixel como un complejo en el cuadrado:\n",
    "\n",
    "$$ C=\\{a+bi;-1\\leq a \\leq 1 \\text{ y } -1\\leq b \\leq 1\\}$$"
   ]
  },
  {
   "cell_type": "code",
   "execution_count": null,
   "metadata": {},
   "outputs": [],
   "source": [
    "xa=-1\n",
    "xb=1\n",
    "ya=-1\n",
    "yb=1\n",
    "maxit=202 #máximo número de iteraciones\n",
    "h=1e-6 \n",
    "eps=1e-3\n"
   ]
  },
  {
   "cell_type": "markdown",
   "metadata": {},
   "source": [
    "Iniciaremos con la función $f(z)=z^3-1$."
   ]
  },
  {
   "cell_type": "code",
   "execution_count": null,
   "metadata": {},
   "outputs": [],
   "source": [
    "def f(z):\n",
    "    return z**3-1"
   ]
  },
  {
   "cell_type": "markdown",
   "metadata": {},
   "source": [
    " Método de la secante:"
   ]
  },
  {
   "cell_type": "code",
   "execution_count": null,
   "metadata": {},
   "outputs": [],
   "source": [
    "def secantemetodo(z):\n",
    "    for i in range (maxit):\n",
    "        dz=(f(z+complex(h,h))-f(z))/complex(h,h)\n",
    "        z0=z-f(z)/dz\n",
    "        if abs (z0-z)<eps:\n",
    "            break\n",
    "        z=z0\n",
    "    return i,z"
   ]
  },
  {
   "cell_type": "code",
   "execution_count": null,
   "metadata": {},
   "outputs": [],
   "source": [
    "secantemetodo(-10+2j)"
   ]
  },
  {
   "cell_type": "markdown",
   "metadata": {},
   "source": [
    "Calculamos los valores en cada punto de la grilla representada en los pixeles:"
   ]
  },
  {
   "cell_type": "code",
   "execution_count": null,
   "metadata": {},
   "outputs": [],
   "source": [
    "for y in range (imgy):\n",
    "    zy=y*(yb-ya)/(imgy-1)+ya\n",
    "    for x in range (imgx):\n",
    "        zx=x*(xb-xa)/(imgx-1)+xa\n",
    "        z=complex(zx,zy)\n",
    "        i,z=secantemetodo(z)\n",
    "        r=i*8\n",
    "        g=i*8\n",
    "        b=i*8\n",
    "        image.putpixel((x,y),(r,g,b))\n"
   ]
  },
  {
   "cell_type": "markdown",
   "metadata": {},
   "source": [
    "Visualizamos la imagen obtenida"
   ]
  },
  {
   "cell_type": "code",
   "execution_count": null,
   "metadata": {},
   "outputs": [],
   "source": [
    "image"
   ]
  }
 ],
 "metadata": {
  "kernelspec": {
   "display_name": "Python 3",
   "language": "python",
   "name": "python3"
  },
  "language_info": {
   "codemirror_mode": {
    "name": "ipython",
    "version": 3
   },
   "file_extension": ".py",
   "mimetype": "text/x-python",
   "name": "python",
   "nbconvert_exporter": "python",
   "pygments_lexer": "ipython3",
   "version": "3.7.6"
  },
  "toc": {
   "base_numbering": 1,
   "nav_menu": {},
   "number_sections": false,
   "sideBar": true,
   "skip_h1_title": false,
   "title_cell": "Table of Contents",
   "title_sidebar": "Contents",
   "toc_cell": false,
   "toc_position": {},
   "toc_section_display": true,
   "toc_window_display": false
  }
 },
 "nbformat": 4,
 "nbformat_minor": 2
}
