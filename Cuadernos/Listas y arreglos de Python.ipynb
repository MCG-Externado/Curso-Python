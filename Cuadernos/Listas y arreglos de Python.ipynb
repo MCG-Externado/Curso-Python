{
 "cells": [
  {
   "cell_type": "markdown",
   "metadata": {},
   "source": [
    "# Listas en Python\n",
    "\n",
    "Una lista es una estructura de datos en Python conformada como una secuencia de elementos ordenada y modificable. Cada elemento o valor que está dentro de una lista se llama elemento. Así como las cadenas se definen como caracteres entre comillas, las listas se definen teniendo sus elementos entre corchetes `[ ... ]` y separandolos con comas  `,`.\n",
    "\n",
    "\n",
    "\n"
   ]
  },
  {
   "cell_type": "markdown",
   "metadata": {},
   "source": [
    "**Ejemplo 1** *(días de la semana)* Una lista que contengan los días de la semana."
   ]
  },
  {
   "cell_type": "code",
   "execution_count": null,
   "metadata": {},
   "outputs": [],
   "source": [
    "Dias=[\"Lunes\",\"Martes\",\"Miércoles\",\"Jueves\",\"Viernes\",\"Sábado\",\"Domingo\"]"
   ]
  },
  {
   "cell_type": "markdown",
   "metadata": {},
   "source": [
    "**Ejemplo 2** *(frutas y verduras)* Haga una lista de frutas y verduras:"
   ]
  },
  {
   "cell_type": "code",
   "execution_count": null,
   "metadata": {},
   "outputs": [],
   "source": [
    "FV=[\"Fresas\",\"Papaya\",\"Limón\",\"Brocoli\",\"Acelgas\",\"Espinacas\"]"
   ]
  },
  {
   "cell_type": "code",
   "execution_count": null,
   "metadata": {},
   "outputs": [],
   "source": [
    "FV"
   ]
  },
  {
   "cell_type": "markdown",
   "metadata": {},
   "source": [
    "## Explorar listas\n",
    "\n",
    "Usamos paréntesis cuadrados para indicar el índice del elemento de la lista que queremos llamar, el conteo siempre inicia en 0. Por ejemplo, el primer, el tercer y el cuarto elemento de la lista `FV` se designan:"
   ]
  },
  {
   "cell_type": "code",
   "execution_count": null,
   "metadata": {},
   "outputs": [],
   "source": [
    "print(\"Primer elemento: \",FV[0])\n",
    "print(\"Tercer elemento: \",FV[2])\n",
    "print(\"Cuarto elemento: \",FV[3])"
   ]
  },
  {
   "cell_type": "markdown",
   "metadata": {},
   "source": [
    "**Índices Negativos**\n",
    "\n",
    "Los índices negativos permiten explorar la lista desde el último elemento, así `Lista[-1]` es el último elemento de la lista, `Lista[-2]` es el penúltimo y así sucesivamente."
   ]
  },
  {
   "cell_type": "code",
   "execution_count": null,
   "metadata": {},
   "outputs": [],
   "source": [
    "Dias[-1]"
   ]
  },
  {
   "cell_type": "code",
   "execution_count": null,
   "metadata": {},
   "outputs": [],
   "source": [
    "Dias[-2]"
   ]
  },
  {
   "cell_type": "code",
   "execution_count": null,
   "metadata": {},
   "outputs": [],
   "source": [
    "Dias[-3]"
   ]
  },
  {
   "cell_type": "markdown",
   "metadata": {},
   "source": [
    "**Rango de índices** \n",
    "\n",
    "También podemos extraer de la lista una sublista con un rango específico de indices, escribimos `Lista[i:j]`donde i representa el índice inicial del rango y j el índice final más 1. Por ejemplo, si quiero extraer de la lista `Dias` los tres días de la semana después del martes, inicio con el índice de martes (1) y termino con el índice de viernes (4):"
   ]
  },
  {
   "cell_type": "code",
   "execution_count": null,
   "metadata": {},
   "outputs": [],
   "source": [
    "Dias[1:4]"
   ]
  },
  {
   "cell_type": "markdown",
   "metadata": {},
   "source": [
    "Si quiero extraer una lista que inicia con un índice i y termina en el final escribo `Lista[i:]`, por ejemplo: "
   ]
  },
  {
   "cell_type": "code",
   "execution_count": null,
   "metadata": {},
   "outputs": [],
   "source": [
    "Dias[3:]"
   ]
  },
  {
   "cell_type": "code",
   "execution_count": null,
   "metadata": {},
   "outputs": [],
   "source": [
    "Dias[-3:]"
   ]
  },
  {
   "cell_type": "markdown",
   "metadata": {},
   "source": [
    "Si por el contrario busco extraer una lista que inicia desde el principio de la lista y termina con el elemento j escribimos `Lista[:j]`"
   ]
  },
  {
   "cell_type": "code",
   "execution_count": null,
   "metadata": {},
   "outputs": [],
   "source": [
    "Dias[:4]"
   ]
  },
  {
   "cell_type": "markdown",
   "metadata": {},
   "source": [
    "## Cambio de valores\n",
    "\n",
    "Podemos cambiar los elementos de una lista haciendo una reasignación, de la lista frutas y verduras `FV` cambiaremos el Brocoli por la Calabaza:"
   ]
  },
  {
   "cell_type": "code",
   "execution_count": null,
   "metadata": {},
   "outputs": [],
   "source": [
    "FV #Veamos la lista para identificar donde está el Brocoli"
   ]
  },
  {
   "cell_type": "code",
   "execution_count": null,
   "metadata": {},
   "outputs": [],
   "source": [
    "FV[3]='Calabaza'"
   ]
  },
  {
   "cell_type": "code",
   "execution_count": null,
   "metadata": {},
   "outputs": [],
   "source": [
    "FV"
   ]
  },
  {
   "cell_type": "markdown",
   "metadata": {},
   "source": [
    "## Operaciones elementales de las listas\n",
    "\n",
    "Entre listas y para cada una de ellas tenemos diversas operaciones. \n",
    "\n",
    "**Suma (Concatenación)**\n",
    "\n",
    "Dada la lista $L=[L_1,L_2,L_3,\\cdots,L_n]$ y la lista $M=[M_1,M_2,\\cdots, M_k]$ tenemos que:\n",
    "\n",
    "$$L+M=[L_1,L_2,L_3,\\cdots,L_n,M_1,M_2,\\cdots, M_k]$$\n",
    "\n",
    "Por ejemplo:"
   ]
  },
  {
   "cell_type": "code",
   "execution_count": null,
   "metadata": {},
   "outputs": [],
   "source": [
    "Dias+FV"
   ]
  },
  {
   "cell_type": "markdown",
   "metadata": {},
   "source": [
    "**Extender una lista**\n",
    "\n",
    "Podemos extender una lista con otra usando el comando `L1.extend(L2)`, en este caso el valor de L1 se actualizará con L1+L2.\n",
    "\n",
    "Ejemplo:\n"
   ]
  },
  {
   "cell_type": "code",
   "execution_count": null,
   "metadata": {},
   "outputs": [],
   "source": [
    "L1=[2,4,6,8]\n",
    "L2=[1,2,3]\n",
    "print(\"L1= \",L1)\n",
    "print(\"L2= \",L2)\n",
    "L1.extend(L2)\n",
    "print(\"L1.extend(L2)= \",L1)\n",
    "L2.extend(L2)\n",
    "print(\"L2.extend(L2)= \",L2)"
   ]
  },
  {
   "cell_type": "code",
   "execution_count": null,
   "metadata": {},
   "outputs": [],
   "source": [
    "FV.extend([\"Papaya\",\"Pera\",\"Mora\",\"Rabano\",\"Limón\"])"
   ]
  },
  {
   "cell_type": "markdown",
   "metadata": {},
   "source": [
    "**Incluir elementos al final de la lista**\n",
    "\n",
    "El comando `L.append(v)` incluirá al valor `v` al final de la lista `L`."
   ]
  },
  {
   "cell_type": "code",
   "execution_count": null,
   "metadata": {},
   "outputs": [],
   "source": [
    "Dias.append(\"Lunes\")"
   ]
  },
  {
   "cell_type": "code",
   "execution_count": null,
   "metadata": {},
   "outputs": [],
   "source": [
    "Dias"
   ]
  },
  {
   "cell_type": "code",
   "execution_count": null,
   "metadata": {},
   "outputs": [],
   "source": [
    "FV.append(\"Papaya\")\n",
    "FV.append(\"Pera\")\n",
    "FV.append(\"Mango\")\n",
    "FV.append(\"Papa\")\n",
    "FV.append(\"Limón\")"
   ]
  },
  {
   "cell_type": "code",
   "execution_count": null,
   "metadata": {},
   "outputs": [],
   "source": [
    "FV"
   ]
  },
  {
   "cell_type": "markdown",
   "metadata": {},
   "source": [
    "**Contar elementos de una lista**\n",
    "\n",
    "El comando `L.count(v)` contará la cantidad de `v` que hay en la lista:"
   ]
  },
  {
   "cell_type": "code",
   "execution_count": null,
   "metadata": {},
   "outputs": [],
   "source": [
    "Dias.count(\"Lunes\")"
   ]
  },
  {
   "cell_type": "code",
   "execution_count": null,
   "metadata": {},
   "outputs": [],
   "source": [
    "FV.count(\"Papaya\")"
   ]
  },
  {
   "cell_type": "markdown",
   "metadata": {},
   "source": [
    "**Insertar elementos en una lista**\n",
    "\n",
    "El comando `L.insert(n,v)` incluirá un elemento nuevo en la lista:"
   ]
  },
  {
   "cell_type": "code",
   "execution_count": null,
   "metadata": {},
   "outputs": [],
   "source": [
    "Dias.insert(4,\"Juernes\")"
   ]
  },
  {
   "cell_type": "code",
   "execution_count": null,
   "metadata": {},
   "outputs": [],
   "source": [
    "Dias"
   ]
  },
  {
   "cell_type": "markdown",
   "metadata": {},
   "source": [
    "**Medir una lista**\n",
    "\n",
    "Con `len(L)` puedo medir una lista:"
   ]
  },
  {
   "cell_type": "code",
   "execution_count": null,
   "metadata": {},
   "outputs": [],
   "source": [
    "len(Dias)"
   ]
  },
  {
   "cell_type": "code",
   "execution_count": null,
   "metadata": {},
   "outputs": [],
   "source": [
    "len(FV)"
   ]
  },
  {
   "cell_type": "markdown",
   "metadata": {},
   "source": [
    "**Remover elementos de una lista**\n",
    "\n",
    "Para eso tenemos dos posibles procesos, usando `L.remove(v)`:"
   ]
  },
  {
   "cell_type": "code",
   "execution_count": null,
   "metadata": {},
   "outputs": [],
   "source": [
    "Dias.remove(\"Juernes\")"
   ]
  },
  {
   "cell_type": "code",
   "execution_count": null,
   "metadata": {},
   "outputs": [],
   "source": [
    "Dias"
   ]
  },
  {
   "cell_type": "markdown",
   "metadata": {},
   "source": [
    "o usando el comando `L.pop(ind)`"
   ]
  },
  {
   "cell_type": "code",
   "execution_count": null,
   "metadata": {},
   "outputs": [],
   "source": [
    "Dias.pop(-1)"
   ]
  },
  {
   "cell_type": "code",
   "execution_count": null,
   "metadata": {},
   "outputs": [],
   "source": [
    "Dias"
   ]
  },
  {
   "cell_type": "markdown",
   "metadata": {},
   "source": [
    "**Reversar una lista**\n",
    "\n",
    "El comando `L.reverse()` nos permitirá reversar la lista:"
   ]
  },
  {
   "cell_type": "code",
   "execution_count": null,
   "metadata": {},
   "outputs": [],
   "source": [
    "Dias.reverse()"
   ]
  },
  {
   "cell_type": "code",
   "execution_count": null,
   "metadata": {},
   "outputs": [],
   "source": [
    "Dias"
   ]
  },
  {
   "cell_type": "markdown",
   "metadata": {},
   "source": [
    "**Limpiar una lista**\n",
    "\n",
    "Usamos el comando `L.clear()` para limpiar la lista:"
   ]
  },
  {
   "cell_type": "code",
   "execution_count": null,
   "metadata": {},
   "outputs": [],
   "source": [
    "Dias.clear()"
   ]
  },
  {
   "cell_type": "code",
   "execution_count": null,
   "metadata": {},
   "outputs": [],
   "source": [
    "Dias"
   ]
  },
  {
   "cell_type": "markdown",
   "metadata": {},
   "source": [
    "## Bucles para recorrer listas\n",
    "\n",
    "La estructura de control `for` en Python resulta ser muy útil para recorrer y definir listas, la sintaxis de Python permite acceder a los elementos de la lista a partir del `for` sin necesidad de utilizar índices."
   ]
  },
  {
   "cell_type": "code",
   "execution_count": null,
   "metadata": {},
   "outputs": [],
   "source": [
    "for frut_o_verd in FV:\n",
    "    print(frut_o_verd)"
   ]
  },
  {
   "cell_type": "code",
   "execution_count": null,
   "metadata": {},
   "outputs": [],
   "source": [
    "cant_letras=[]\n",
    "for frut_o_verd in FV:\n",
    "    lon=len(frut_o_verd)\n",
    "    cant_letras.append(lon)\n",
    "print(cant_letras)"
   ]
  },
  {
   "cell_type": "markdown",
   "metadata": {},
   "source": [
    "Al momento de definir listas usamos parentesis cuadrados, la condición que debe satisfacer el valor de la lista y el ciclo:\n",
    "\n",
    "***\n",
    "`[f(v) for v in L]`\n",
    "***\n"
   ]
  },
  {
   "cell_type": "code",
   "execution_count": null,
   "metadata": {},
   "outputs": [],
   "source": [
    "SL=[3,4,6,7]\n",
    "FV2=[FV[i] for i in SL]\n",
    "FV2"
   ]
  },
  {
   "cell_type": "code",
   "execution_count": null,
   "metadata": {},
   "outputs": [],
   "source": [
    "[2**(-i) for i in range(10)]"
   ]
  },
  {
   "cell_type": "markdown",
   "metadata": {},
   "source": [
    "## Rangos \n",
    "\n",
    "El tipo `range` es una lista inmodificable de números enteros escritos como una sucesión aritmética.\n",
    "\n",
    "En Python 3 este argumento se reconoce como un tipo de datos y usa uno, dos o tres argumentos numéricos, como si fuera una función."
   ]
  },
  {
   "cell_type": "code",
   "execution_count": null,
   "metadata": {},
   "outputs": [],
   "source": [
    "range(10)"
   ]
  },
  {
   "cell_type": "code",
   "execution_count": null,
   "metadata": {},
   "outputs": [],
   "source": [
    "for i in range(10):\n",
    "    print(i)"
   ]
  },
  {
   "cell_type": "code",
   "execution_count": null,
   "metadata": {},
   "outputs": [],
   "source": [
    "for i in range(4,10):\n",
    "    print(i)"
   ]
  },
  {
   "cell_type": "code",
   "execution_count": null,
   "metadata": {},
   "outputs": [],
   "source": [
    "for i in range(4,10,2):\n",
    "    print(i)"
   ]
  },
  {
   "cell_type": "code",
   "execution_count": null,
   "metadata": {},
   "outputs": [],
   "source": [
    "for i in range(3,10,2):\n",
    "    print(i)"
   ]
  },
  {
   "cell_type": "markdown",
   "metadata": {},
   "source": [
    "## Enumerar listas\n",
    "\n",
    "Aunque una ventaja indiscutible del `for` de Python es que tenemos la posibilidad de recorrer la lista y no los índices, en ocasiones hace falta el índice del elemento de la lista, tenemos dos posibilidades:"
   ]
  },
  {
   "cell_type": "code",
   "execution_count": null,
   "metadata": {},
   "outputs": [],
   "source": [
    "Dias=[\"Lunes\",\"Martes\",\"Miércoles\",\"Jueves\",\"Viernes\",\"Sábado\",\"Domingo\"]"
   ]
  },
  {
   "cell_type": "code",
   "execution_count": null,
   "metadata": {},
   "outputs": [],
   "source": [
    "for ind in range(len(Dias)):\n",
    "    print(Dias[ind], \"es el\", ind+1,\"día de la semana\")"
   ]
  },
  {
   "cell_type": "code",
   "execution_count": null,
   "metadata": {},
   "outputs": [],
   "source": [
    "for ind,i in enumerate(Dias):\n",
    "    print(i, \"es el\", ind+1,\"día de la semana\")"
   ]
  },
  {
   "cell_type": "code",
   "execution_count": null,
   "metadata": {},
   "outputs": [],
   "source": [
    "for i in enumerate(Dias):\n",
    "    print(i)"
   ]
  },
  {
   "cell_type": "code",
   "execution_count": null,
   "metadata": {},
   "outputs": [],
   "source": [
    "type(enumerate(Dias))"
   ]
  },
  {
   "cell_type": "markdown",
   "metadata": {},
   "source": [
    "## Contenencia en una lista\n",
    "\n",
    "Podemos establecer si un calor está o no está en una lista con el comando `in`:"
   ]
  },
  {
   "cell_type": "code",
   "execution_count": null,
   "metadata": {},
   "outputs": [],
   "source": [
    "\"Lunes\" in Dias"
   ]
  },
  {
   "cell_type": "code",
   "execution_count": null,
   "metadata": {},
   "outputs": [],
   "source": [
    "\"Lunes\" in FV"
   ]
  },
  {
   "cell_type": "code",
   "execution_count": null,
   "metadata": {},
   "outputs": [],
   "source": [
    "FV"
   ]
  },
  {
   "cell_type": "code",
   "execution_count": null,
   "metadata": {},
   "outputs": [],
   "source": [
    "V=['Brocoli', 'Acelgas', 'Espinacas']"
   ]
  },
  {
   "cell_type": "code",
   "execution_count": null,
   "metadata": {},
   "outputs": [],
   "source": [
    "F=[]\n",
    "for v in FV:\n",
    "    if v in V:\n",
    "        print(v,\" es verdura.\")\n",
    "    else:\n",
    "        print(v,\" es fruta.\")\n",
    "        F.append(v)"
   ]
  },
  {
   "cell_type": "markdown",
   "metadata": {
    "solution2": "hidden",
    "solution2_first": true
   },
   "source": [
    "**Ejercicio** Lo hace muy mal, permitamos que nos pregunte y recreamos la lista de Frutas y Verduras:"
   ]
  },
  {
   "cell_type": "code",
   "execution_count": null,
   "metadata": {
    "solution2": "hidden"
   },
   "outputs": [],
   "source": [
    "F=[]\n",
    "V=[]\n",
    "SC=FV.copy()\n",
    "\n",
    "for fv in FV:\n",
    "    print(fv)\n",
    "    L=input(\" es fruta (marque F) o Verdura (marque V)\")\n",
    "    if L==\"F\":        \n",
    "        SC.remove(fv)\n",
    "        F.append(fv)\n",
    "    elif L==\"V\":\n",
    "        SC.remove(fv)\n",
    "        V.append(fv)\n",
    "    else:\n",
    "        print(\"Esa respuesta no fue correcta\")\n",
    "print(\"Frutas: \",F)\n",
    "print(\"Verduras: \",V)\n",
    "print(\"Sin clasificar: \",SC)"
   ]
  },
  {
   "cell_type": "markdown",
   "metadata": {},
   "source": [
    "Si quisiera clasificar todas las frutas y verduras utilizaría otro bucle: `while`"
   ]
  },
  {
   "cell_type": "code",
   "execution_count": null,
   "metadata": {
    "scrolled": true
   },
   "outputs": [],
   "source": [
    "F=[]\n",
    "V=[]\n",
    "SC=FV.copy()\n",
    "\n",
    "while len(SC)>0:\n",
    "    ol=SC.copy()\n",
    "    for fv in ol:\n",
    "        print(fv)\n",
    "        L=input(\" es fruta (marque F) o Verdura (marque V)\")\n",
    "        if L==\"F\":        \n",
    "            SC.remove(fv)\n",
    "            F.append(fv)\n",
    "        elif L==\"V\":\n",
    "            SC.remove(fv)\n",
    "            V.append(fv)\n",
    "        else:\n",
    "            print(\"Esa respuesta no fue correcta\")\n",
    "    print(\"Frutas: \",F)\n",
    "    print(\"Verduras: \",V)\n",
    "    print(\"Sin clasificar: \",SC)"
   ]
  },
  {
   "cell_type": "code",
   "execution_count": null,
   "metadata": {},
   "outputs": [],
   "source": [
    "F"
   ]
  },
  {
   "cell_type": "code",
   "execution_count": null,
   "metadata": {},
   "outputs": [],
   "source": [
    "V"
   ]
  },
  {
   "cell_type": "markdown",
   "metadata": {},
   "source": [
    "# Tuplas\n",
    "\n",
    "Las tuplas son una estructura de datos similar a las listas pero inmodificables, se encierran con paréntesis redondos.\n"
   ]
  },
  {
   "cell_type": "code",
   "execution_count": null,
   "metadata": {},
   "outputs": [],
   "source": [
    "Tupla1=(\"eje_x\",\"eje_y\",\"eje_z\")"
   ]
  },
  {
   "cell_type": "code",
   "execution_count": null,
   "metadata": {},
   "outputs": [],
   "source": [
    "Tupla1.count(\"eje_x\")"
   ]
  },
  {
   "cell_type": "code",
   "execution_count": null,
   "metadata": {},
   "outputs": [],
   "source": [
    "Tupla1.index(\"eje_z\")"
   ]
  },
  {
   "cell_type": "markdown",
   "metadata": {},
   "source": [
    "La indexación es similar a la de las listas:"
   ]
  },
  {
   "cell_type": "code",
   "execution_count": null,
   "metadata": {},
   "outputs": [],
   "source": [
    "Tupla1[0]"
   ]
  },
  {
   "cell_type": "code",
   "execution_count": null,
   "metadata": {},
   "outputs": [],
   "source": [
    "Tupla1[-1]"
   ]
  },
  {
   "cell_type": "code",
   "execution_count": null,
   "metadata": {},
   "outputs": [],
   "source": [
    "Tupla1[1:]"
   ]
  },
  {
   "cell_type": "markdown",
   "metadata": {},
   "source": [
    "La creación de una tupla unitaria requiere una coma final:"
   ]
  },
  {
   "cell_type": "code",
   "execution_count": null,
   "metadata": {},
   "outputs": [],
   "source": [
    "Tupla2=(\"solo\",)"
   ]
  },
  {
   "cell_type": "code",
   "execution_count": null,
   "metadata": {},
   "outputs": [],
   "source": [
    "Tupla2"
   ]
  },
  {
   "cell_type": "code",
   "execution_count": null,
   "metadata": {},
   "outputs": [],
   "source": [
    "Tuplamala=(\"solo\")\n",
    "Tuplamala"
   ]
  },
  {
   "cell_type": "markdown",
   "metadata": {},
   "source": [
    "Tupla desde una lista u otra tupla:"
   ]
  },
  {
   "cell_type": "code",
   "execution_count": null,
   "metadata": {},
   "outputs": [],
   "source": [
    "tuple((Dias))"
   ]
  },
  {
   "cell_type": "code",
   "execution_count": null,
   "metadata": {},
   "outputs": [],
   "source": [
    "tuple((Tupla1.index(i)+1 for i in Tupla1))"
   ]
  },
  {
   "cell_type": "markdown",
   "metadata": {},
   "source": [
    "# Conjuntos\n",
    "\n",
    "Los conjuntos son colecciones de elementos sin indíces y sin orden, se definen entre corchetes `{ . . . }`"
   ]
  },
  {
   "cell_type": "code",
   "execution_count": null,
   "metadata": {},
   "outputs": [],
   "source": [
    "Set1={\"Nairo\", \"Egan\",\"Rigo\",\"Rigo\"}"
   ]
  },
  {
   "cell_type": "code",
   "execution_count": null,
   "metadata": {},
   "outputs": [],
   "source": [
    "Set1"
   ]
  },
  {
   "cell_type": "code",
   "execution_count": null,
   "metadata": {},
   "outputs": [],
   "source": [
    "Set1[2]"
   ]
  },
  {
   "cell_type": "markdown",
   "metadata": {},
   "source": [
    "Podemos convertir listas en conjuntos con el comando `set()`"
   ]
  },
  {
   "cell_type": "code",
   "execution_count": null,
   "metadata": {},
   "outputs": [],
   "source": [
    "FV"
   ]
  },
  {
   "cell_type": "code",
   "execution_count": null,
   "metadata": {},
   "outputs": [],
   "source": [
    "CtoFV=set(FV)"
   ]
  },
  {
   "cell_type": "code",
   "execution_count": null,
   "metadata": {},
   "outputs": [],
   "source": [
    "CtoFV"
   ]
  },
  {
   "cell_type": "markdown",
   "metadata": {},
   "source": [
    "Varias de las operaciones entre listas y operaciones entre conjuntos podemos usar aquí:"
   ]
  },
  {
   "cell_type": "code",
   "execution_count": null,
   "metadata": {},
   "outputs": [],
   "source": [
    "CtoFV.add(\"Naranja\") ## Agregar un elemento"
   ]
  },
  {
   "cell_type": "code",
   "execution_count": null,
   "metadata": {},
   "outputs": [],
   "source": [
    "CtoFV"
   ]
  },
  {
   "cell_type": "code",
   "execution_count": null,
   "metadata": {},
   "outputs": [],
   "source": [
    "CtoF,CtoV=set(F),set(V)"
   ]
  },
  {
   "cell_type": "code",
   "execution_count": null,
   "metadata": {},
   "outputs": [],
   "source": [
    "CtoF"
   ]
  },
  {
   "cell_type": "code",
   "execution_count": null,
   "metadata": {},
   "outputs": [],
   "source": [
    "CtoV"
   ]
  },
  {
   "cell_type": "code",
   "execution_count": null,
   "metadata": {},
   "outputs": [],
   "source": [
    "Otro_Cto=CtoF.union(CtoV)## Unión de conjuntos"
   ]
  },
  {
   "cell_type": "code",
   "execution_count": null,
   "metadata": {},
   "outputs": [],
   "source": [
    "Otro_Cto.intersection(CtoFV) ##intersección"
   ]
  },
  {
   "cell_type": "code",
   "execution_count": null,
   "metadata": {},
   "outputs": [],
   "source": [
    "CtoFV.difference(Otro_Cto)##Diferencia"
   ]
  },
  {
   "cell_type": "code",
   "execution_count": null,
   "metadata": {},
   "outputs": [],
   "source": [
    "Set1.discard(\"Egan\")## Eliminar elementod"
   ]
  },
  {
   "cell_type": "code",
   "execution_count": null,
   "metadata": {},
   "outputs": [],
   "source": [
    "Set1"
   ]
  },
  {
   "cell_type": "code",
   "execution_count": null,
   "metadata": {},
   "outputs": [],
   "source": [
    "type(Set1)"
   ]
  },
  {
   "cell_type": "markdown",
   "metadata": {
    "solution2": "hidden",
    "solution2_first": true
   },
   "source": [
    "**Ejercicio** Arreglando el problema de la clasificación de frutas y verduras:"
   ]
  },
  {
   "cell_type": "code",
   "execution_count": null,
   "metadata": {
    "solution2": "hidden"
   },
   "outputs": [],
   "source": [
    "F=set()\n",
    "V=set()\n",
    "SC=CtoFV.copy()\n",
    "\n",
    "while len(SC)>0:\n",
    "    ol=SC.copy()\n",
    "    for fv in ol:\n",
    "        print(fv)\n",
    "        L=input(\" es fruta (marque F) o Verdura (marque V)\")\n",
    "        if L==\"F\":        \n",
    "            SC.remove(fv)\n",
    "            F.add(fv)\n",
    "        elif L==\"V\":\n",
    "            SC.remove(fv)\n",
    "            V.add(fv)\n",
    "        else:\n",
    "            print(\"Esa respuesta no fue correcta\")\n",
    "    print(\"Frutas: \",F)\n",
    "    print(\"Verduras: \",V)\n",
    "    print(\"Sin clasificar: \",SC)"
   ]
  },
  {
   "cell_type": "markdown",
   "metadata": {},
   "source": [
    "# Diccionarios\n",
    "Un diccionario es una colección de elementos indexable, sin orden y modificable. Se escriben entre corchetes y los elementos cuentan con un identificador que llamamos clave o \"key\". \n"
   ]
  },
  {
   "cell_type": "code",
   "execution_count": null,
   "metadata": {},
   "outputs": [],
   "source": [
    "UEC={\"Nombre\": \"Universidad Externado de Colombia\", \"Año de fundación\":\"1886\",\n",
    "              \"Fundador\":\"Nicolás Pinzón Warlosten\" ,\"Sitio web\":\"http://www.uexternado.edu.co\",\n",
    "              \"Facultades\":{ \"Administración de Empresas\",\n",
    "                            \"Administración de Empresas Turísticas y Hoteleras\",\n",
    "                            \"Ciencias de la Educación\",\"Ciencias Sociales y Humanas\",\n",
    "                            \"Comunicación Social - Periodismo\",\"Contaduría Pública\",\"Derecho\",\n",
    "                            \"Economía\",\"Estudios del Patrimonio Cultural\",\"Finanzas, Gobierno y Relaciones Internacionales\"}}"
   ]
  },
  {
   "cell_type": "code",
   "execution_count": null,
   "metadata": {},
   "outputs": [],
   "source": [
    "UEC[\"Nombre\"]"
   ]
  },
  {
   "cell_type": "code",
   "execution_count": null,
   "metadata": {},
   "outputs": [],
   "source": [
    "UEC[\"Facultades\"]"
   ]
  },
  {
   "cell_type": "code",
   "execution_count": null,
   "metadata": {},
   "outputs": [],
   "source": [
    "UEC[1]"
   ]
  },
  {
   "cell_type": "code",
   "execution_count": null,
   "metadata": {},
   "outputs": [],
   "source": [
    "UEC[\"Departamentos\"]=[\"Departamento de Matemáticas\",\"Departamento de Lenguas\"]"
   ]
  },
  {
   "cell_type": "code",
   "execution_count": null,
   "metadata": {},
   "outputs": [],
   "source": [
    "UEC"
   ]
  },
  {
   "cell_type": "code",
   "execution_count": null,
   "metadata": {},
   "outputs": [],
   "source": [
    "UEC[\"Departamentos\"][0]"
   ]
  },
  {
   "cell_type": "code",
   "execution_count": null,
   "metadata": {},
   "outputs": [],
   "source": [
    "UEC[\"Facultades\"][0]"
   ]
  },
  {
   "cell_type": "code",
   "execution_count": null,
   "metadata": {},
   "outputs": [],
   "source": []
  }
 ],
 "metadata": {
  "kernelspec": {
   "display_name": "Python 3",
   "language": "python",
   "name": "python3"
  },
  "language_info": {
   "codemirror_mode": {
    "name": "ipython",
    "version": 3
   },
   "file_extension": ".py",
   "mimetype": "text/x-python",
   "name": "python",
   "nbconvert_exporter": "python",
   "pygments_lexer": "ipython3",
   "version": "3.7.6"
  },
  "toc": {
   "base_numbering": 1,
   "nav_menu": {},
   "number_sections": false,
   "sideBar": true,
   "skip_h1_title": false,
   "title_cell": "Table of Contents",
   "title_sidebar": "Contents",
   "toc_cell": false,
   "toc_position": {
    "height": "calc(100% - 180px)",
    "left": "10px",
    "top": "150px",
    "width": "217.933px"
   },
   "toc_section_display": true,
   "toc_window_display": false
  }
 },
 "nbformat": 4,
 "nbformat_minor": 4
}
